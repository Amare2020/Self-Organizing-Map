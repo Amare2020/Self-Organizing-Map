{
 "cells": [
  {
   "cell_type": "code",
   "execution_count": 4,
   "metadata": {},
   "outputs": [
    {
     "name": "stdout",
     "output_type": "stream",
     "text": [
      "Iris Data Loaded\n",
      "Sample pattern: [ 5.5999999   2.70000005  4.19999981  1.29999995]\n",
      "Class of the above pattern: Iris-versicolor\n"
     ]
    }
   ],
   "source": [
    "import numpy as np\n",
    "import math\n",
    "import random\n",
    "\n",
    "patterns = []\n",
    "classes = []\n",
    "\n",
    "filename = 'Iris_data.txt'\n",
    "file = open(filename,'r')\n",
    "\n",
    "for line in file.readlines():\n",
    "    row = line.strip().split(',')\n",
    "    patterns.append(row[0:4])\n",
    "    classes.append(row[4])\n",
    "print(\"Iris Data Loaded\")\n",
    "file.close\n",
    "\n",
    "patterns = np.asarray(patterns,dtype=np.float32)\n",
    "\n",
    "sample_no = np.random.randint(0,len(patterns))\n",
    "\n",
    "print(\"Sample pattern: \" + str(patterns[int(sample_no)]))\n",
    "print(\"Class of the above pattern: \" + str(classes[int(sample_no)]))\n",
    "    "
   ]
  },
  {
   "cell_type": "code",
   "execution_count": 5,
   "metadata": {},
   "outputs": [
    {
     "name": "stdout",
     "output_type": "stream",
     "text": [
      "Heuristically computed appropriate no. of map units: 304\n"
     ]
    }
   ],
   "source": [
    "#A heuristic formula for calculating no. of map units\n",
    "#source: https://stackoverflow.com/questions/19163214/kohonen-self-organizing-maps-determining-the-number-of-neurons-and-grid-size\n",
    "\n",
    "def mapunits(input_len,size='small'):\n",
    "    \n",
    "    heuristic_map_units = 5*input_len**0.54321\n",
    "     \n",
    "    if size == 'big':\n",
    "        heuristic_map_units = 4*(heuristic_map_units)\n",
    "    else:\n",
    "        heuristic_map_units = 0.25*(heuristic_map_units)\n",
    "        \n",
    "    return heuristic_map_units\n",
    "        \n",
    "        \n",
    "map_units = mapunits(len(patterns),size='big')\n",
    "print(\"Heuristically computed appropriate no. of map units: \"+str(int(map_units)))\n",
    "\n",
    "#For reference purpose only - however this function can be used to automatically calculate the SOM dimensions\n",
    "#from data length. I will still be specifying the SOM dimensions manually, anyway."
   ]
  },
  {
   "cell_type": "code",
   "execution_count": 24,
   "metadata": {},
   "outputs": [
    {
     "name": "stdout",
     "output_type": "stream",
     "text": [
      "Lower error found: 0.881225586589 at epoch: 1\n",
      "\tLearning rate: 0.0998\n",
      "\tNeighbourhood radius: 4.491008994002999\n",
      "Lower error found: 0.333097619731 at epoch: 2\n",
      "\tLearning rate: 0.09960000000000001\n",
      "\tNeighbourhood radius: 4.482035952047962\n",
      "Lower error found: 0.301310596631 at epoch: 29\n",
      "\tLearning rate: 0.0942\n",
      "\tNeighbourhood radius: 4.246424763465593\n",
      "Lower error found: 0.294679389196 at epoch: 55\n",
      "\tLearning rate: 0.08900000000000001\n",
      "\tNeighbourhood radius: 4.031253608834377\n",
      "Lower error found: 0.156971807579 at epoch: 62\n",
      "\tLearning rate: 0.08760000000000001\n",
      "\tNeighbourhood radius: 3.975209283972379\n",
      "Lower error found: 0.155987997056 at epoch: 143\n",
      "\tLearning rate: 0.0714\n",
      "\tNeighbourhood radius: 3.380681771760987\n",
      "Lower error found: 0.150998780207 at epoch: 151\n",
      "\tLearning rate: 0.0698\n",
      "\tNeighbourhood radius: 3.3270212920028936\n",
      "Lower error found: 0.11526419261 at epoch: 185\n",
      "\tLearning rate: 0.063\n",
      "\tNeighbourhood radius: 3.108304487868096\n",
      "Lower error found: 0.0750511458477 at epoch: 204\n",
      "\tLearning rate: 0.05920000000000001\n",
      "\tNeighbourhood radius: 2.9924049547008087\n",
      "Lower error found: 0.0696470083886 at epoch: 216\n",
      "\tLearning rate: 0.05680000000000001\n",
      "\tNeighbourhood radius: 2.9214421950831637\n",
      "Lower error found: 0.065509377353 at epoch: 218\n",
      "\tLearning rate: 0.056400000000000006\n",
      "\tNeighbourhood radius: 2.9097797667094785\n",
      "Lower error found: 0.0643939848458 at epoch: 297\n",
      "\tLearning rate: 0.040600000000000004\n",
      "\tNeighbourhood radius: 2.4845148193811877\n",
      "Lower error found: 0.0575579387697 at epoch: 311\n",
      "\tLearning rate: 0.0378\n",
      "\tNeighbourhood radius: 2.415913307511568\n",
      "Lower error found: 0.02373296955 at epoch: 358\n",
      "\tLearning rate: 0.028400000000000005\n",
      "\tNeighbourhood radius: 2.199164238895858\n",
      "Lower error found: 0.0220712828921 at epoch: 364\n",
      "\tLearning rate: 0.027200000000000002\n",
      "\tNeighbourhood radius: 2.172931976390534\n",
      "Lower error found: 0.0191414793932 at epoch: 408\n",
      "\tLearning rate: 0.018400000000000007\n",
      "\tNeighbourhood radius: 1.989886091759544\n",
      "Lower error found: 0.0135258804841 at epoch: 417\n",
      "\tLearning rate: 0.016600000000000004\n",
      "\tNeighbourhood radius: 1.954388578157978\n",
      "Lower error found: 0.0088854901969 at epoch: 423\n",
      "\tLearning rate: 0.015400000000000004\n",
      "\tNeighbourhood radius: 1.9310760700183465\n",
      "Lower error found: 0.00884290289165 at epoch: 470\n",
      "\tLearning rate: 0.006000000000000005\n",
      "\tNeighbourhood radius: 1.7578252591133452\n",
      "Lower error found: 0.00689747402096 at epoch: 471\n",
      "\tLearning rate: 0.005800000000000006\n",
      "\tNeighbourhood radius: 1.7543131219030408\n",
      "Lower error found: 0.00522884119729 at epoch: 478\n",
      "\tLearning rate: 0.004400000000000004\n",
      "\tNeighbourhood radius: 1.7299238613767036\n",
      "Lower error found: 0.0037024022789 at epoch: 480\n",
      "\tLearning rate: 0.0040000000000000036\n",
      "\tNeighbourhood radius: 1.7230179868880042\n",
      "Lower error found: 0.000927032230858 at epoch: 489\n",
      "\tLearning rate: 0.002200000000000002\n",
      "\tNeighbourhood radius: 1.6922811247738432\n"
     ]
    }
   ],
   "source": [
    "import matplotlib.pyplot as plt\n",
    "%matplotlib inline\n",
    "\n",
    "def Eucli_dists(MAP,x):\n",
    "    x = x.reshape((1,1,-1))\n",
    "    #print(x)\n",
    "    Eucli_MAP = MAP - x\n",
    "    Eucli_MAP = Eucli_MAP**2\n",
    "    Eucli_MAP = np.sqrt(np.sum(Eucli_MAP,2))\n",
    "    return Eucli_MAP\n",
    "\n",
    "input_dimensions = 4\n",
    "\n",
    "map_width = 9\n",
    "map_height = 5\n",
    "MAP = np.random.uniform(size=(map_height,map_width,input_dimensions))\n",
    "prev_MAP = np.zeros((map_height,map_width,input_dimensions))\n",
    "\n",
    "radius0 = max(map_width,map_height)/2\n",
    "learning_rate0 = 0.1\n",
    "\n",
    "coordinate_map = np.zeros([map_height,map_width,2],dtype=np.int32)\n",
    "\n",
    "for i in range(0,map_height):\n",
    "    for j in range(0,map_width):\n",
    "        coordinate_map[i][j] = [i,j]\n",
    "\n",
    "epochs = 500\n",
    "radius=radius0\n",
    "learning_rate = learning_rate0\n",
    "max_iterations = len(patterns)+1\n",
    "too_many_iterations = 10*max_iterations\n",
    "\n",
    "convergence = [1]\n",
    "\n",
    "timestep=1\n",
    "e=0.001 \n",
    "flag=0\n",
    "\n",
    "epoch=0\n",
    "while epoch<epochs:\n",
    "    \n",
    "    shuffle = np.random.randint(len(patterns), size=len(patterns))\n",
    "    for i in range(len(patterns)):\n",
    "        \n",
    "        # difference between prev_MAP and MAP\n",
    "        J = np.linalg.norm(MAP - prev_MAP)\n",
    "        #print(J)\n",
    "        # J = || euclidean distance between previous MAP and current MAP  ||\n",
    "\n",
    "        if  J <= e: #if converged (convergence criteria)\n",
    "            flag=1\n",
    "            break\n",
    "            \n",
    "        else:\n",
    "            \n",
    "            #if timestep == max_iterations and timestep != too_many_iterations:\n",
    "            #    epochs += 1\n",
    "            #    max_iterations = epochs*len(patterns)\n",
    "            \n",
    "            pattern = patterns[shuffle[i]]\n",
    "            pattern_ary = np.tile(pattern, (map_height, map_width, 1))\n",
    "            Eucli_MAP = np.linalg.norm(pattern_ary - MAP, axis=2)\n",
    "            \n",
    "            # Get the best matching unit(BMU) which is the one with the smallest Euclidean distance\n",
    "            BMU = np.unravel_index(np.argmin(Eucli_MAP, axis=None), Eucli_MAP.shape)\n",
    "            #BMU[1] = np.argmin(Eucli_MAP, 1)[int(BMU[0])]\n",
    "    \n",
    "            #Eucli_from_BMU = Eucli_dists(coordinate_map,BMU)  \n",
    "        \n",
    "            prev_MAP = np.copy(MAP)\n",
    "             \n",
    "            for i in range(map_height):\n",
    "                for j in range(map_width):\n",
    "                    distance = np.linalg.norm([i - BMU[0], j - BMU[1]])\n",
    "                    if distance <= radius:\n",
    "                        #theta = math.exp(-(distance**2)/(2*(radius**2)))\n",
    "                        MAP[i][j] = MAP[i][j] + learning_rate*(pattern-MAP[i][j])\n",
    "            \n",
    "            learning_rate = learning_rate0*(1-(epoch/epochs))\n",
    "            #time_constant = max_iterations/math.log(radius) \n",
    "            radius = radius0*math.exp(-epoch/epochs)\n",
    "            #print([learning_rate, radius])\n",
    "            \n",
    "            timestep+=1\n",
    "    \n",
    "    if J < min(convergence):\n",
    "        print('Lower error found: %s' %str(J) + ' at epoch: %s' % str(epoch))\n",
    "        print('\\tLearning rate: ' + str(learning_rate))\n",
    "        print('\\tNeighbourhood radius: ' + str(radius))\n",
    "        MAP_final = MAP\n",
    "    convergence.append(J)\n",
    "    \n",
    "    if flag==1:\n",
    "        break\n",
    "    epoch+=1"
   ]
  },
  {
   "cell_type": "code",
   "execution_count": 25,
   "metadata": {},
   "outputs": [
    {
     "data": {
      "image/png": "[encoded data removed]",
      "text/plain": [
       "<Figure size 432x288 with 1 Axes>"
      ]
     },
     "metadata": {},
     "output_type": "display_data"
    },
    {
     "name": "stdout",
     "output_type": "stream",
     "text": [
      "Number of timesteps: 73356\n",
      "Final error: 0.000927032230858\n"
     ]
    }
   ],
   "source": [
    "# Show a plot of the error at each epoch to show convergence, but this is guaranteed in SOM\n",
    "# due to the learning rate and neighbourhood decay\n",
    "plt.plot(convergence)\n",
    "plt.ylabel('error')\n",
    "plt.xlabel('epoch')\n",
    "plt.grid(True)\n",
    "plt.yscale('log')\n",
    "plt.show()\n",
    "print('Number of timesteps: ' + str(timestep))\n",
    "print('Final error: ' + str(J))"
   ]
  },
  {
   "cell_type": "code",
   "execution_count": 26,
   "metadata": {},
   "outputs": [
    {
     "name": "stdout",
     "output_type": "stream",
     "text": [
      "Red = Iris-Setosa\n",
      "Blue = Iris-Virginica\n",
      "Green = Iris-Versicolor\n"
     ]
    },
    {
     "data": {
      "text/plain": [
       "<matplotlib.image.AxesImage at 0x7f4b60a98198>"
      ]
     },
     "execution_count": 26,
     "metadata": {},
     "output_type": "execute_result"
    },
    {
     "data": {
      "image/png": "[encoded data removed]",
      "text/plain": [
       "<Figure size 432x288 with 1 Axes>"
      ]
     },
     "metadata": {},
     "output_type": "display_data"
    }
   ],
   "source": [
    "from scipy.misc import toimage\n",
    "from PIL import Image\n",
    "\n",
    "\n",
    "BMU = np.zeros([2],dtype=np.int32)\n",
    "result_map = np.zeros([map_height,map_width,3],dtype=np.float32)\n",
    "\n",
    "i=0\n",
    "for pattern in patterns:\n",
    "    \n",
    "    pattern_ary = np.tile(pattern, (map_height, map_width, 1))\n",
    "    Eucli_MAP = np.linalg.norm(pattern_ary - MAP_final, axis=2)\n",
    "\n",
    "    # Get the best matching unit(BMU) which is the one with the smallest Euclidean distance\n",
    "    BMU = np.unravel_index(np.argmin(Eucli_MAP, axis=None), Eucli_MAP.shape)\n",
    "    \n",
    "    x = BMU[0]\n",
    "    y = BMU[1]\n",
    "    \n",
    "    if classes[i] == 'Iris-setosa':\n",
    "        if result_map[x][y][0] <= 0.5:\n",
    "            result_map[x][y] += np.asarray([0.5,0,0])\n",
    "    elif classes[i] == 'Iris-virginica':\n",
    "        if result_map[x][y][1] <= 0.5:\n",
    "            result_map[x][y] += np.asarray([0,0.5,0])\n",
    "    elif classes[i] == 'Iris-versicolor':\n",
    "        if result_map[x][y][2] <= 0.5:\n",
    "            result_map[x][y] += np.asarray([0,0,0.5])\n",
    "    i+=1\n",
    "result_map = np.flip(result_map,0)\n",
    "    \n",
    "#print result_map\n",
    "\n",
    "print(\"Red = Iris-Setosa\")\n",
    "print(\"Blue = Iris-Virginica\")\n",
    "print(\"Green = Iris-Versicolor\")\n",
    "\n",
    "plt.imshow(result_map, interpolation='nearest')"
   ]
  }
 ],
 "metadata": {
  "kernelspec": {
   "display_name": "Python 3",
   "language": "python",
   "name": "python3"
  },
  "language_info": {
   "codemirror_mode": {
    "name": "ipython",
    "version": 3
   },
   "file_extension": ".py",
   "mimetype": "text/x-python",
   "name": "python",
   "nbconvert_exporter": "python",
   "pygments_lexer": "ipython3",
   "version": "3.5.2"
  }
 },
 "nbformat": 4,
 "nbformat_minor": 2
}
