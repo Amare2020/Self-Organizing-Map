{
 "cells": [
  {
   "cell_type": "code",
   "execution_count": 1,
   "metadata": {},
   "outputs": [
    {
     "name": "stdout",
     "output_type": "stream",
     "text": [
      "Iris Data Loaded\n",
      "Sample pattern: [ 5.5999999  3.         4.5        1.5      ]\n",
      "Class of the above pattern: Iris-versicolor\n"
     ]
    }
   ],
   "source": [
    "import numpy as np\n",
    "\n",
    "patterns = []\n",
    "classes = []\n",
    "\n",
    "filename = 'Iris_data.txt'\n",
    "\n",
    "file = open(filename,'r')\n",
    "\n",
    "for line in file.readlines():\n",
    "    row = line.strip().split(',')\n",
    "    patterns.append(row[0:4])\n",
    "    classes.append(row[4])\n",
    "print \"Iris Data Loaded\"\n",
    "file.close\n",
    "\n",
    "patterns = np.asarray(patterns,dtype=np.float32)\n",
    "\n",
    "sample_no = np.random.randint(0,len(patterns))\n",
    "\n",
    "print \"Sample pattern: \"+str(patterns[int(sample_no)])\n",
    "print \"Class of the above pattern: \"+str(classes[int(sample_no)])\n",
    "    "
   ]
  },
  {
   "cell_type": "code",
   "execution_count": 2,
   "metadata": {},
   "outputs": [],
   "source": [
    "input_dimensions = 4\n",
    "\n",
    "map_width = 10\n",
    "map_height = 10\n",
    "MAP = np.random.uniform(size=(map_height,map_width,input_dimensions))\n",
    "#print MAP\n",
    "\n",
    "radius0 = max(map_width,map_height)/2\n",
    "learning_rate0 = 0.2\n",
    "\n",
    "coordinate_map = np.zeros([map_height,map_width,2],dtype=np.int32)\n",
    "\n",
    "for i in xrange(0,map_height):\n",
    "    for j in xrange(0,map_width):\n",
    "        coordinate_map[i][j] = [i,j]"
   ]
  },
  {
   "cell_type": "code",
   "execution_count": 3,
   "metadata": {},
   "outputs": [],
   "source": [
    "import math\n",
    "import random\n",
    "\n",
    "def Eucli_dists(MAP,x):\n",
    "    x = x.reshape((1,1,-1))\n",
    "    Eucli_MAP = MAP - x\n",
    "    Eucli_MAP = Eucli_MAP**2\n",
    "    Eucli_MAP = np.sqrt(np.sum(Eucli_MAP,2))\n",
    "    return Eucli_MAP\n",
    "\n",
    "epochs = 200\n",
    "radius=radius0\n",
    "learning_rate = learning_rate0\n",
    "timestep = 0\n",
    "max_iterations = epochs*len(patterns)\n",
    "BMU = np.zeros([2],dtype=np.int32)\n",
    "\n",
    "t=0\n",
    "for epoch in xrange(0,epochs):\n",
    "    \n",
    "    shuffle = random.sample(np.arange(0,len(patterns),1,'int'),len(patterns))\n",
    "    \n",
    "    for i in xrange(0,len(patterns)):\n",
    "        \n",
    "        pattern = patterns[shuffle[i]]\n",
    "        Eucli_MAP = Eucli_dists(MAP,pattern)\n",
    "        \n",
    "        BMU[0] = np.argmin(np.amin(Eucli_MAP,1),0)\n",
    "        BMU[1] = np.argmin(Eucli_MAP,1)[int(BMU[0])]\n",
    "    \n",
    "        Eucli_from_BMU = Eucli_dists(coordinate_map,BMU)  \n",
    "    \n",
    "        for i in xrange(0,map_height):\n",
    "            for j in xrange(0,map_width):\n",
    "            \n",
    "                distance = Eucli_from_BMU[i][j]\n",
    "            \n",
    "                if distance <= radius: \n",
    "                    theta = math.exp(-(distance**2)/(2*(radius**2)))\n",
    "                    MAP[i][j] = MAP[i][j] + theta*learning_rate*(pattern-MAP[i][j])\n",
    "                \n",
    "        learning_rate = learning_rate0*math.exp(-(t+1)/max_iterations)\n",
    "        time_constant = max_iterations/math.log(radius) \n",
    "        radius = radius0*math.exp(-(t+1)/time_constant)\n",
    "        t+=1\n",
    "    "
   ]
  },
  {
   "cell_type": "code",
   "execution_count": 11,
   "metadata": {},
   "outputs": [
    {
     "name": "stdout",
     "output_type": "stream",
     "text": [
      "\n",
      "Red = Iris-Setosa\n",
      "Green = Iris-Virginica\n",
      "Blue = Iris-Versicolor\n",
      "\n"
     ]
    },
    {
     "data": {
      "text/plain": [
       "<matplotlib.image.AxesImage at 0x7f5281788bd0>"
      ]
     },
     "execution_count": 11,
     "metadata": {},
     "output_type": "execute_result"
    },
    {
     "data": {
      "image/png": "[encoded data removed]",
      "text/plain": [
       "<matplotlib.figure.Figure at 0x7f529c204850>"
      ]
     },
     "metadata": {},
     "output_type": "display_data"
    }
   ],
   "source": [
    "import matplotlib.pyplot as plt\n",
    "from scipy.misc import toimage\n",
    "%matplotlib inline\n",
    "\n",
    "BMU = np.zeros([2],dtype=np.int32)\n",
    "result_map = np.zeros([map_height,map_width,3],dtype=np.float32)\n",
    "\n",
    "i=0\n",
    "for pattern in patterns:\n",
    "    \n",
    "    Eucli_MAP = Eucli_dists(MAP,pattern)\n",
    "    \n",
    "    BMU[0] = np.argmin(np.amin(Eucli_MAP,1),0)\n",
    "    BMU[1] = np.argmin(Eucli_MAP,1)[int(BMU[0])]\n",
    "    \n",
    "    x = BMU[0]\n",
    "    y = BMU[1]\n",
    "    \n",
    "    if classes[i] == 'Iris-setosa':\n",
    "        if result_map[x][y][0] <= 0.5:\n",
    "            result_map[x][y] += np.asarray([0.5,0,0])\n",
    "    elif classes[i] == 'Iris-virginica':\n",
    "        if result_map[x][y][1] <= 0.5:\n",
    "            result_map[x][y] += np.asarray([0,0.5,0])\n",
    "    elif classes[i] == 'Iris-versicolor':\n",
    "        if result_map[x][y][2] <= 0.5:\n",
    "            result_map[x][y] += np.asarray([0,0,0.5])\n",
    "    i+=1\n",
    "result_map = np.flip(result_map,0)\n",
    "    \n",
    "#print result_map\n",
    "\n",
    "print \"\\nRed = Iris-Setosa\"\n",
    "print \"Green = Iris-Virginica\"\n",
    "print \"Blue = Iris-Versicolor\\n\"\n",
    "\n",
    "plt.imshow(toimage(result_map),interpolation='nearest')"
   ]
  },
  {
   "cell_type": "code",
   "execution_count": 12,
   "metadata": {},
   "outputs": [
    {
     "name": "stdout",
     "output_type": "stream",
     "text": [
      "\n",
      "Red = Iris-Setosa\n",
      "Green = Iris-Virginica\n",
      "Blue = Iris-Versicolor\n",
      "\n"
     ]
    },
    {
     "data": {
      "image/png": "[encoded data removed]",
      "text/plain": [
       "<matplotlib.figure.Figure at 0x7f528173b950>"
      ]
     },
     "metadata": {},
     "output_type": "display_data"
    }
   ],
   "source": [
    "import matplotlib.pyplot as plt\n",
    "%matplotlib inline\n",
    "\n",
    "setosa_x = []\n",
    "setosa_y = []\n",
    "versicolor_x = []\n",
    "versicolor_y = []\n",
    "virginica_x = []\n",
    "virginica_y = []\n",
    "\n",
    "BMU = np.zeros([2],dtype=np.int32)\n",
    "result_map = np.zeros([map_height,map_width,3],dtype=np.float32)\n",
    "\n",
    "i=0\n",
    "for pattern in patterns:\n",
    "    \n",
    "    Eucli_MAP = Eucli_dists(MAP,pattern)\n",
    "    \n",
    "    BMU[0] = np.argmin(np.amin(Eucli_MAP,1),0)\n",
    "    BMU[1] = np.argmin(Eucli_MAP,1)[int(BMU[0])]\n",
    "    \n",
    "    y = BMU[0]\n",
    "    x = BMU[1]\n",
    "    \n",
    "    if classes[i] == 'Iris-setosa':\n",
    "        setosa_x.append(x)\n",
    "        setosa_y.append(y)\n",
    "    elif classes[i] == 'Iris-virginica':\n",
    "        virginica_x.append(x)\n",
    "        virginica_y.append(y)\n",
    "    elif classes[i] == 'Iris-versicolor':\n",
    "        versicolor_x.append(x)\n",
    "        versicolor_y.append(y)\n",
    "    i+=1\n",
    "\n",
    "print \"\\nRed = Iris-Setosa\"\n",
    "print \"Green = Iris-Virginica\"\n",
    "print \"Blue = Iris-Versicolor\\n\"    \n",
    "    \n",
    "plt.plot(setosa_x, setosa_y, 'ro')\n",
    "plt.plot(virginica_x,virginica_y,'go')\n",
    "plt.plot(versicolor_x,versicolor_y,'bo')\n",
    "plt.axis([-1,map_width,-1,map_height])\n",
    "plt.show()"
   ]
  },
  {
   "cell_type": "code",
   "execution_count": null,
   "metadata": {
    "collapsed": true
   },
   "outputs": [],
   "source": []
  }
 ],
 "metadata": {
  "kernelspec": {
   "display_name": "Python 2",
   "language": "python",
   "name": "python2"
  },
  "language_info": {
   "codemirror_mode": {
    "name": "ipython",
    "version": 2
   },
   "file_extension": ".py",
   "mimetype": "text/x-python",
   "name": "python",
   "nbconvert_exporter": "python",
   "pygments_lexer": "ipython2",
   "version": "2.7.6"
  }
 },
 "nbformat": 4,
 "nbformat_minor": 2
}
